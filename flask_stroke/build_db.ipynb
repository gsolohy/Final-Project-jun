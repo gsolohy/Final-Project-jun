{
 "cells": [
  {
   "cell_type": "code",
   "execution_count": 7,
   "metadata": {},
   "outputs": [],
   "source": [
    "import pandas as pd\n",
    "from sqlalchemy import create_engine, inspect\n",
    "from sqlalchemy.ext.automap import automap_base\n",
    "engine = create_engine('sqlite:///stroke.db', echo=False)\n",
    "df = pd.read_csv('data/data_adan.csv')"
   ]
  },
  {
   "cell_type": "code",
   "execution_count": 9,
   "metadata": {},
   "outputs": [],
   "source": [
    "age = df['Age'].unique()\n",
    "df_age = pd.DataFrame(age).rename(columns={0:'Age'}).sort_values('Age',ascending=True)\n",
    "df_age.to_sql('age', con=engine, if_exists='append', index=False)"
   ]
  },
  {
   "cell_type": "code",
   "execution_count": 50,
   "metadata": {},
   "outputs": [],
   "source": [
    "race = df['Race'].unique()\n",
    "df_race = pd.DataFrame(race).rename(columns={0:'Race'}).sort_values('Race',ascending=True).reset_index(drop=True)\n",
    "df_race.to_sql('race', con=engine, if_exists='append')"
   ]
  },
  {
   "cell_type": "code",
   "execution_count": 65,
   "metadata": {},
   "outputs": [],
   "source": [
    "gender = df['Sex'].unique()\n",
    "df_gender = pd.DataFrame(gender).rename(columns={0:'Gender'}).sort_values('Gender',ascending=True).reset_index(drop=True)\n",
    "df_gender.to_sql('gender', con=engine, if_exists='append')"
   ]
  },
  {
   "cell_type": "code",
   "execution_count": 72,
   "metadata": {},
   "outputs": [],
   "source": [
    "conditions = {'Condition': ['HTN', 'Dyslipidemia', 'Carotid stenosis', 'CKD', 'DM']}\n",
    "df_condition = pd.DataFrame(conditions).sort_values('Condition',ascending=True).reset_index(drop=True)\n",
    "df_condition.to_sql('condition', con=engine, if_exists='append')"
   ]
  },
  {
   "cell_type": "code",
   "execution_count": 5,
   "metadata": {},
   "outputs": [],
   "source": [
    "inspector=inspect(engine)"
   ]
  },
  {
   "cell_type": "code",
   "execution_count": 6,
   "metadata": {},
   "outputs": [
    {
     "data": {
      "text/plain": [
       "['age', 'condition', 'gender', 'race']"
      ]
     },
     "execution_count": 6,
     "metadata": {},
     "output_type": "execute_result"
    }
   ],
   "source": [
    "inspector.get_table_names()"
   ]
  },
  {
   "cell_type": "code",
   "execution_count": 17,
   "metadata": {},
   "outputs": [],
   "source": [
    "ages = engine.execute('select * from age').fetchall()"
   ]
  },
  {
   "cell_type": "code",
   "execution_count": 22,
   "metadata": {},
   "outputs": [
    {
     "data": {
      "text/plain": [
       "16"
      ]
     },
     "execution_count": 22,
     "metadata": {},
     "output_type": "execute_result"
    }
   ],
   "source": [
    "ages[0][0]"
   ]
  },
  {
   "cell_type": "code",
   "execution_count": null,
   "metadata": {},
   "outputs": [],
   "source": []
  }
 ],
 "metadata": {
  "kernelspec": {
   "display_name": "Python 3.7.6 64-bit ('final_project': conda)",
   "language": "python",
   "name": "python37664bitfinalprojectcondac9a2b596cdc948f3ac0e7f328673ebce"
  },
  "language_info": {
   "codemirror_mode": {
    "name": "ipython",
    "version": 3
   },
   "file_extension": ".py",
   "mimetype": "text/x-python",
   "name": "python",
   "nbconvert_exporter": "python",
   "pygments_lexer": "ipython3",
   "version": "3.7.6"
  }
 },
 "nbformat": 4,
 "nbformat_minor": 4
}
