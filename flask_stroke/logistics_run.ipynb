{
 "cells": [
  {
   "cell_type": "code",
   "execution_count": 1,
   "metadata": {},
   "outputs": [],
   "source": [
    "import numpy as np\n",
    "import pandas as pd\n",
    "import joblib\n",
    "from sqlalchemy import create_engine, inspect"
   ]
  },
  {
   "cell_type": "code",
   "execution_count": 2,
   "metadata": {},
   "outputs": [],
   "source": [
    "classifier_from_joblib = joblib.load('data/log_trained.pkl')\n",
    "engine = create_engine(\"sqlite:///stroke.db\",echo=False)\n",
    "\n",
    "ages_raw = engine.execute('select * from age').fetchall()\n",
    "ages = [(i,a[0]) for i,a in enumerate(ages_raw)]\n",
    "genders = engine.execute('select * from gender').fetchall()\n",
    "races = engine.execute('select * from race').fetchall()\n",
    "conditions = engine.execute('select * from condition').fetchall()\n",
    "columns = engine.execute('select * from column').fetchall()\n",
    "\n",
    "column_info = pd.DataFrame(columns).drop(columns=0).rename(columns={1:'columns'})\n",
    "column_info['values'] = 0\n",
    "column_info.set_index('columns', inplace=True)\n",
    "\n",
    "def callin_db():\n",
    "    return ages, genders, races, conditions"
   ]
  },
  {
   "cell_type": "code",
   "execution_count": 3,
   "metadata": {},
   "outputs": [
    {
     "data": {
      "text/plain": "[(0, 16),\n (1, 17),\n (2, 18),\n (3, 19),\n (4, 20),\n (5, 21),\n (6, 22),\n (7, 23),\n (8, 24),\n (9, 25),\n (10, 26),\n (11, 27),\n (12, 28),\n (13, 29),\n (14, 30),\n (15, 31),\n (16, 32),\n (17, 33),\n (18, 34),\n (19, 35),\n (20, 36),\n (21, 37),\n (22, 38),\n (23, 39),\n (24, 40),\n (25, 41),\n (26, 42),\n (27, 43),\n (28, 44),\n (29, 45),\n (30, 46),\n (31, 47),\n (32, 48),\n (33, 49),\n (34, 50),\n (35, 51),\n (36, 52),\n (37, 53),\n (38, 54),\n (39, 55),\n (40, 56),\n (41, 57),\n (42, 58),\n (43, 59),\n (44, 60),\n (45, 61),\n (46, 62),\n (47, 63),\n (48, 64),\n (49, 65),\n (50, 66),\n (51, 67),\n (52, 68),\n (53, 69),\n (54, 70),\n (55, 71),\n (56, 72),\n (57, 73),\n (58, 74),\n (59, 75),\n (60, 76),\n (61, 77),\n (62, 78),\n (63, 79),\n (64, 80),\n (65, 81),\n (66, 82),\n (67, 83),\n (68, 84),\n (69, 85),\n (70, 86),\n (71, 87),\n (72, 88),\n (73, 89),\n (74, 90),\n (75, 91),\n (76, 92),\n (77, 93),\n (78, 94),\n (79, 95),\n (80, 96),\n (81, 97),\n (82, 98),\n (83, 99),\n (84, 100),\n (85, 101),\n (86, 102),\n (87, 103),\n (88, 104),\n (89, 105),\n (90, 16),\n (91, 17),\n (92, 18),\n (93, 19),\n (94, 20),\n (95, 21),\n (96, 22),\n (97, 23),\n (98, 24),\n (99, 25),\n (100, 26),\n (101, 27),\n (102, 28),\n (103, 29),\n (104, 30),\n (105, 31),\n (106, 32),\n (107, 33),\n (108, 34),\n (109, 35),\n (110, 36),\n (111, 37),\n (112, 38),\n (113, 39),\n (114, 40),\n (115, 41),\n (116, 42),\n (117, 43),\n (118, 44),\n (119, 45),\n (120, 46),\n (121, 47),\n (122, 48),\n (123, 49),\n (124, 50),\n (125, 51),\n (126, 52),\n (127, 53),\n (128, 54),\n (129, 55),\n (130, 56),\n (131, 57),\n (132, 58),\n (133, 59),\n (134, 60),\n (135, 61),\n (136, 62),\n (137, 63),\n (138, 64),\n (139, 65),\n (140, 66),\n (141, 67),\n (142, 68),\n (143, 69),\n (144, 70),\n (145, 71),\n (146, 72),\n (147, 73),\n (148, 74),\n (149, 75),\n (150, 76),\n (151, 77),\n (152, 78),\n (153, 79),\n (154, 80),\n (155, 81),\n (156, 82),\n (157, 83),\n (158, 84),\n (159, 85),\n (160, 86),\n (161, 87),\n (162, 88),\n (163, 89),\n (164, 90),\n (165, 91),\n (166, 92),\n (167, 93),\n (168, 94),\n (169, 95),\n (170, 96),\n (171, 97),\n (172, 98),\n (173, 99),\n (174, 100),\n (175, 101),\n (176, 102),\n (177, 103),\n (178, 104),\n (179, 105)]"
     },
     "execution_count": 3,
     "metadata": {},
     "output_type": "execute_result"
    }
   ],
   "source": [
    "ages"
   ]
  },
  {
   "cell_type": "code",
   "execution_count": 2,
   "metadata": {},
   "outputs": [],
   "source": [
    "def calculate(age,gender,race,condition):\n",
    "    age_info = ages[age][1]\n",
    "    gen_info = genders[gender][1]\n",
    "    race_info = races[race][1]\n",
    "    con_info = conditions[condition][1]\n",
    "    \n",
    "    for i in range(len(column_info)):\n",
    "        name = column_info.iloc[i].name\n",
    "        if name == 'Age':\n",
    "            column_info.iloc[i,0] = age_info\n",
    "        elif name == 'Race_'+race_info:\n",
    "            column_info.iloc[i,0] = 1\n",
    "        elif name == 'Sex_'+gen_info:\n",
    "            column_info.iloc[i,0] = 1\n",
    "        elif name == con_info:\n",
    "            column_info.iloc[i,0] = 1\n",
    "            \n",
    "    user_data_raw = column_info['values'].values\n",
    "    user_data_rdy = np.array([user_data])\n",
    "    predict_result = classifier_from_joblib.predict(testdummy_data0)\n",
    "\n",
    "    print(f\"{age_info},{gen_info},{race_info},{con_info}\")\n",
    "    return predict_result"
   ]
  },
  {
   "cell_type": "code",
   "execution_count": null,
   "metadata": {},
   "outputs": [],
   "source": []
  }
 ],
 "metadata": {
  "kernelspec": {
   "display_name": "Python 3.7.6 64-bit ('final_project': conda)",
   "language": "python",
   "name": "python37664bitfinalprojectcondac9a2b596cdc948f3ac0e7f328673ebce"
  },
  "language_info": {
   "codemirror_mode": {
    "name": "ipython",
    "version": 3
   },
   "file_extension": ".py",
   "mimetype": "text/x-python",
   "name": "python",
   "nbconvert_exporter": "python",
   "pygments_lexer": "ipython3",
   "version": "3.7.6-final"
  }
 },
 "nbformat": 4,
 "nbformat_minor": 4
}