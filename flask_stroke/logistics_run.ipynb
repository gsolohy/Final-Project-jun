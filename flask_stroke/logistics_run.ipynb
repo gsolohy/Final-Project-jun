{
 "cells": [
  {
   "cell_type": "code",
   "execution_count": 7,
   "metadata": {},
   "outputs": [],
   "source": [
    "import numpy as np\n",
    "import pandas as pd\n",
    "import joblib\n",
    "from sqlalchemy import create_engine, inspect"
   ]
  },
  {
   "cell_type": "code",
   "execution_count": 20,
   "metadata": {},
   "outputs": [],
   "source": [
    "classifier_from_joblib = joblib.load('data/log_trained.pkl')\n",
    "engine = create_engine(\"sqlite:///stroke.db\",echo=False)\n",
    "\n",
    "ages_raw = engine.execute('select * from age').fetchall()\n",
    "ages = [(i,a[0]) for i,a in enumerate(ages_raw)]\n",
    "genders = engine.execute('select * from gender').fetchall()\n",
    "races = engine.execute('select * from race').fetchall()\n",
    "conditions = engine.execute('select * from condition').fetchall()\n",
    "columns = engine.execute('select * from column').fetchall()\n",
    "\n",
    "column_info = pd.DataFrame(columns).drop(columns=0).rename(columns={1:'columns'})\n",
    "column_info['values'] = 0\n",
    "column_info.set_index('columns', inplace=True)\n",
    "\n",
    "def callin_db():\n",
    "    return ages, genders, races, conditions"
   ]
  },
  {
   "cell_type": "code",
   "execution_count": 2,
   "metadata": {},
   "outputs": [],
   "source": [
    "def calculate(age,gender,race,condition):\n",
    "    age_info = ages[age][1]\n",
    "    gen_info = genders[gender][1]\n",
    "    race_info = races[race][1]\n",
    "    con_info = conditions[condition][1]\n",
    "    \n",
    "    for i in range(len(column_info)):\n",
    "        name = column_info.iloc[i].name\n",
    "        if name == 'Age':\n",
    "            column_info.iloc[i,0] = age_info\n",
    "        elif name == 'Race_'+race_info:\n",
    "            column_info.iloc[i,0] = 1\n",
    "        elif name == 'Sex_'+gen_info:\n",
    "            column_info.iloc[i,0] = 1\n",
    "        elif name == con_info:\n",
    "            column_info.iloc[i,0] = 1\n",
    "            \n",
    "    user_data_raw = column_info['values'].values\n",
    "    user_data_rdy = np.array([user_data])\n",
    "    predict_result = classifier_from_joblib.predict(testdummy_data0)\n",
    "\n",
    "    print(f\"{age_info},{gen_info},{race_info},{con_info}\")\n",
    "    return predict_result"
   ]
  },
  {
   "cell_type": "code",
   "execution_count": null,
   "metadata": {},
   "outputs": [],
   "source": []
  }
 ],
 "metadata": {
  "kernelspec": {
   "display_name": "Python 3.7.6 64-bit ('final_project': conda)",
   "language": "python",
   "name": "python37664bitfinalprojectcondac9a2b596cdc948f3ac0e7f328673ebce"
  },
  "language_info": {
   "codemirror_mode": {
    "name": "ipython",
    "version": 3
   },
   "file_extension": ".py",
   "mimetype": "text/x-python",
   "name": "python",
   "nbconvert_exporter": "python",
   "pygments_lexer": "ipython3",
   "version": "3.7.6"
  }
 },
 "nbformat": 4,
 "nbformat_minor": 4
}
